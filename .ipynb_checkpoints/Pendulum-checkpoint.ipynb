{
 "cells": [
  {
   "cell_type": "code",
   "execution_count": null,
   "metadata": {},
   "outputs": [],
   "source": [
    "import numpy as np\n",
    "\n",
    "g = 9.8\n",
    "L = 5\n",
    "mu = 1\n",
    "\n",
    "THETA_0 = np.pi / 3\n",
    "THETA_DOT_0 = 0\n",
    "\n",
    "def get_theta_double_dot(theta, theta_dot):\n",
    "    return -mu * theta_dot - (g/L) * np.sin(theta)\n",
    "\n",
    "def theta(t):\n",
    "    theta = THETA_0\n",
    "    theta_dot = THETA_DOT_0\n",
    "    delta_t = 0.01\n",
    "    for time in np.arange(0, t, delta_t):\n",
    "        theta_double_dot = get_theta_double_dot(theta, theta_dot)\n",
    "        theta += theta_dot * delta_t\n",
    "        theta_dot += theta_double_dot * delta_t\n",
    "        return theta\n",
    "\n",
    "t= 10\n",
    "theta(t)\n",
    "\n",
    "for i in range(10):\n",
    "    print(theta(i))"
   ]
  }
 ],
 "metadata": {
  "kernelspec": {
   "display_name": "Python 3",
   "language": "python",
   "name": "python3"
  },
  "language_info": {
   "codemirror_mode": {
    "name": "ipython",
    "version": 3
   },
   "file_extension": ".py",
   "mimetype": "text/x-python",
   "name": "python",
   "nbconvert_exporter": "python",
   "pygments_lexer": "ipython3",
   "version": "3.8.3"
  }
 },
 "nbformat": 4,
 "nbformat_minor": 4
}
